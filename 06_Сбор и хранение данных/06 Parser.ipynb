{
 "cells": [
  {
   "cell_type": "markdown",
   "metadata": {},
   "source": [
    "Напишите парсер для сбора с сайта данных о 11 крупнейших фестивалях 2018 года. Сохраните данные в датафрейм"
   ]
  },
  {
   "cell_type": "markdown",
   "metadata": {},
   "source": [
    "**Импорт библиотек**"
   ]
  },
  {
   "cell_type": "code",
   "execution_count": 1,
   "metadata": {},
   "outputs": [],
   "source": [
    "import requests\n",
    "from bs4 import BeautifulSoup\n",
    "\n",
    "import pandas as pd"
   ]
  },
  {
   "cell_type": "code",
   "execution_count": 2,
   "metadata": {},
   "outputs": [],
   "source": [
    "URL = 'https://code.s3.yandex.net/learning-materials/data-analyst/festival_news/index.html'"
   ]
  },
  {
   "cell_type": "code",
   "execution_count": 3,
   "metadata": {},
   "outputs": [],
   "source": [
    "req = requests.get(URL)"
   ]
  },
  {
   "cell_type": "code",
   "execution_count": 4,
   "metadata": {},
   "outputs": [],
   "source": [
    "soup = BeautifulSoup(req.text, 'lxml')"
   ]
  },
  {
   "cell_type": "code",
   "execution_count": 5,
   "metadata": {},
   "outputs": [],
   "source": [
    "table = soup.find('table',attrs={'id': 'best_festivals'})"
   ]
  },
  {
   "cell_type": "code",
   "execution_count": 6,
   "metadata": {},
   "outputs": [],
   "source": [
    "heading_table = [] # Список, в котором будут храниться названия столбцов\n",
    "for row in table.find_all('th'):\n",
    "        heading_table.append(row.text)"
   ]
  },
  {
   "cell_type": "code",
   "execution_count": 7,
   "metadata": {},
   "outputs": [],
   "source": [
    "content=[] # Список, в котором будут храниться данные из таблицы\n",
    "for row in table.find_all('tr'):\n",
    "    if not row.find_all('th'):\n",
    "        content.append([element.text for element in row.find_all('td')])"
   ]
  },
  {
   "cell_type": "code",
   "execution_count": 8,
   "metadata": {},
   "outputs": [
    {
     "data": {
      "text/html": [
       "<div>\n",
       "<style scoped>\n",
       "    .dataframe tbody tr th:only-of-type {\n",
       "        vertical-align: middle;\n",
       "    }\n",
       "\n",
       "    .dataframe tbody tr th {\n",
       "        vertical-align: top;\n",
       "    }\n",
       "\n",
       "    .dataframe thead th {\n",
       "        text-align: right;\n",
       "    }\n",
       "</style>\n",
       "<table border=\"1\" class=\"dataframe\">\n",
       "  <thead>\n",
       "    <tr style=\"text-align: right;\">\n",
       "      <th></th>\n",
       "      <th>Название фестиваля</th>\n",
       "      <th>Место проведения</th>\n",
       "      <th>Дата проведения</th>\n",
       "    </tr>\n",
       "  </thead>\n",
       "  <tbody>\n",
       "    <tr>\n",
       "      <td>0</td>\n",
       "      <td>Музыкальный фестиваль «Усадьба Jazz»</td>\n",
       "      <td>Екатеринбург</td>\n",
       "      <td>01.07.2018</td>\n",
       "    </tr>\n",
       "    <tr>\n",
       "      <td>1</td>\n",
       "      <td>Фестиваль музыки и технологий Alfa Future People</td>\n",
       "      <td>Нижний Новгород</td>\n",
       "      <td>10.08.2018</td>\n",
       "    </tr>\n",
       "    <tr>\n",
       "      <td>2</td>\n",
       "      <td>Фестиваль еды «О, да! Еда!»</td>\n",
       "      <td>Санкт-Петербург</td>\n",
       "      <td>21.07.2018</td>\n",
       "    </tr>\n",
       "    <tr>\n",
       "      <td>3</td>\n",
       "      <td>Доброфест</td>\n",
       "      <td>Ярославль</td>\n",
       "      <td>29.07.2018</td>\n",
       "    </tr>\n",
       "    <tr>\n",
       "      <td>4</td>\n",
       "      <td>Park Live</td>\n",
       "      <td>Москва</td>\n",
       "      <td>28.07.2018</td>\n",
       "    </tr>\n",
       "    <tr>\n",
       "      <td>5</td>\n",
       "      <td>Пикник Афиши</td>\n",
       "      <td>Москва</td>\n",
       "      <td>04.08.2018</td>\n",
       "    </tr>\n",
       "    <tr>\n",
       "      <td>6</td>\n",
       "      <td>VK FEST</td>\n",
       "      <td>Санкт-Петербург</td>\n",
       "      <td>29.07.2018</td>\n",
       "    </tr>\n",
       "    <tr>\n",
       "      <td>7</td>\n",
       "      <td>Фестиваль «О, да! Еда!»</td>\n",
       "      <td>Иркутск</td>\n",
       "      <td>25.08.2018</td>\n",
       "    </tr>\n",
       "    <tr>\n",
       "      <td>8</td>\n",
       "      <td>Фестиваль «О, да! Еда!»</td>\n",
       "      <td>Владивосток</td>\n",
       "      <td>02.09.2018</td>\n",
       "    </tr>\n",
       "    <tr>\n",
       "      <td>9</td>\n",
       "      <td>Видфест</td>\n",
       "      <td>Москва</td>\n",
       "      <td>08.09.2018</td>\n",
       "    </tr>\n",
       "    <tr>\n",
       "      <td>10</td>\n",
       "      <td>«Нашествие 2018»</td>\n",
       "      <td>Тверь</td>\n",
       "      <td>05.08.2018</td>\n",
       "    </tr>\n",
       "  </tbody>\n",
       "</table>\n",
       "</div>"
      ],
      "text/plain": [
       "                                  Название фестиваля Место проведения  \\\n",
       "0               Музыкальный фестиваль «Усадьба Jazz»     Екатеринбург   \n",
       "1   Фестиваль музыки и технологий Alfa Future People  Нижний Новгород   \n",
       "2                        Фестиваль еды «О, да! Еда!»  Санкт-Петербург   \n",
       "3                                          Доброфест        Ярославль   \n",
       "4                                          Park Live           Москва   \n",
       "5                                       Пикник Афиши           Москва   \n",
       "6                                            VK FEST  Санкт-Петербург   \n",
       "7                            Фестиваль «О, да! Еда!»          Иркутск   \n",
       "8                            Фестиваль «О, да! Еда!»      Владивосток   \n",
       "9                                            Видфест           Москва   \n",
       "10                                  «Нашествие 2018»            Тверь   \n",
       "\n",
       "   Дата проведения  \n",
       "0       01.07.2018  \n",
       "1       10.08.2018  \n",
       "2       21.07.2018  \n",
       "3       29.07.2018  \n",
       "4       28.07.2018  \n",
       "5       04.08.2018  \n",
       "6       29.07.2018  \n",
       "7       25.08.2018  \n",
       "8       02.09.2018  \n",
       "9       08.09.2018  \n",
       "10      05.08.2018  "
      ]
     },
     "execution_count": 8,
     "metadata": {},
     "output_type": "execute_result"
    }
   ],
   "source": [
    "festivals = pd.DataFrame(content, columns=heading_table) \n",
    "festivals"
   ]
  },
  {
   "cell_type": "code",
   "execution_count": null,
   "metadata": {},
   "outputs": [],
   "source": []
  }
 ],
 "metadata": {
  "ExecuteTimeLog": [
   {
    "duration": 3603,
    "start_time": "2021-09-09T10:37:03.978Z"
   },
   {
    "duration": 4,
    "start_time": "2021-09-09T10:37:17.248Z"
   },
   {
    "duration": 98,
    "start_time": "2021-09-09T10:37:29.429Z"
   },
   {
    "duration": 7,
    "start_time": "2021-09-09T10:37:42.936Z"
   },
   {
    "duration": 4,
    "start_time": "2021-09-09T10:37:53.480Z"
   },
   {
    "duration": 4,
    "start_time": "2021-09-09T10:38:03.195Z"
   },
   {
    "duration": 6,
    "start_time": "2021-09-09T10:38:12.431Z"
   },
   {
    "duration": 25,
    "start_time": "2021-09-09T10:38:23.416Z"
   }
  ],
  "kernelspec": {
   "display_name": "Python 3",
   "language": "python",
   "name": "python3"
  },
  "language_info": {
   "codemirror_mode": {
    "name": "ipython",
    "version": 3
   },
   "file_extension": ".py",
   "mimetype": "text/x-python",
   "name": "python",
   "nbconvert_exporter": "python",
   "pygments_lexer": "ipython3",
   "version": "3.7.8"
  },
  "toc": {
   "base_numbering": 1,
   "nav_menu": {},
   "number_sections": true,
   "sideBar": true,
   "skip_h1_title": true,
   "title_cell": "Table of Contents",
   "title_sidebar": "Contents",
   "toc_cell": false,
   "toc_position": {},
   "toc_section_display": true,
   "toc_window_display": false
  }
 },
 "nbformat": 4,
 "nbformat_minor": 2
}
