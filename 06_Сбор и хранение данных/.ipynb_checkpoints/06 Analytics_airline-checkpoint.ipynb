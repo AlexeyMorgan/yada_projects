{
 "cells": [
  {
   "cell_type": "markdown",
   "metadata": {
    "toc": true
   },
   "source": [
    "<h1>Содержание<span class=\"tocSkip\"></span></h1>\n",
    "<div class=\"toc\"><ul class=\"toc-item\"><li><span><a href=\"#Открыть-файлы-с-данными-и-провести-предобработку\" data-toc-modified-id=\"Открыть-файлы-с-данными-и-провести-предобработку-1\"><span class=\"toc-item-num\">1&nbsp;&nbsp;</span>Открыть файлы с данными и провести предобработку</a></span></li><li><span><a href=\"#Выбрать-топ-10-городов-по-количеству-рейсов\" data-toc-modified-id=\"Выбрать-топ-10-городов-по-количеству-рейсов-2\"><span class=\"toc-item-num\">2&nbsp;&nbsp;</span>Выбрать топ-10 городов по количеству рейсов</a></span></li><li><span><a href=\"#Построить-графики\" data-toc-modified-id=\"Построить-графики-3\"><span class=\"toc-item-num\">3&nbsp;&nbsp;</span>Построить графики</a></span><ul class=\"toc-item\"><li><span><a href=\"#модели-самолетов-и-количество-рейсов\" data-toc-modified-id=\"модели-самолетов-и-количество-рейсов-3.1\"><span class=\"toc-item-num\">3.1&nbsp;&nbsp;</span>модели самолетов и количество рейсов</a></span></li><li><span><a href=\"#города-и-количество-рейсов\" data-toc-modified-id=\"города-и-количество-рейсов-3.2\"><span class=\"toc-item-num\">3.2&nbsp;&nbsp;</span>города и количество рейсов</a></span></li><li><span><a href=\"#топ-10-городов-и-количество-рейсов\" data-toc-modified-id=\"топ-10-городов-и-количество-рейсов-3.3\"><span class=\"toc-item-num\">3.3&nbsp;&nbsp;</span>топ-10 городов и количество рейсов</a></span></li></ul></li><li><span><a href=\"#Общий-вывод\" data-toc-modified-id=\"Общий-вывод-4\"><span class=\"toc-item-num\">4&nbsp;&nbsp;</span>Общий вывод</a></span></li></ul></div>"
   ]
  },
  {
   "cell_type": "markdown",
   "metadata": {},
   "source": [
    "# Аналитика в авиакомпании"
   ]
  },
  {
   "cell_type": "markdown",
   "metadata": {},
   "source": [
    "«F9» — это российская авиакомпания, выполняющая внутренние пассажирские авиаперевозки.\n",
    "\n",
    "Необходимо понять предпочтения пользователей, покупающих билеты на те или иные направления.\n",
    "\n",
    "Задача изучить базу данных и проанализировать спрос пассажиров на рейсы в города, где проходят крупнейшие фестивали. "
   ]
  },
  {
   "cell_type": "markdown",
   "metadata": {},
   "source": [
    "## Открыть файлы с данными и провести предобработку"
   ]
  },
  {
   "cell_type": "markdown",
   "metadata": {},
   "source": [
    "**Импорт библиотек и настройки**"
   ]
  },
  {
   "cell_type": "code",
   "execution_count": 1,
   "metadata": {},
   "outputs": [],
   "source": [
    "import pandas as pd\n",
    "\n",
    "import matplotlib.pyplot as plt\n",
    "import seaborn as sns"
   ]
  },
  {
   "cell_type": "code",
   "execution_count": 2,
   "metadata": {},
   "outputs": [],
   "source": [
    "sns.set_style(\"whitegrid\")"
   ]
  },
  {
   "cell_type": "markdown",
   "metadata": {},
   "source": [
    "**Загружаем файлы**"
   ]
  },
  {
   "cell_type": "code",
   "execution_count": 3,
   "metadata": {},
   "outputs": [
    {
     "data": {
      "text/html": [
       "<div>\n",
       "<style scoped>\n",
       "    .dataframe tbody tr th:only-of-type {\n",
       "        vertical-align: middle;\n",
       "    }\n",
       "\n",
       "    .dataframe tbody tr th {\n",
       "        vertical-align: top;\n",
       "    }\n",
       "\n",
       "    .dataframe thead th {\n",
       "        text-align: right;\n",
       "    }\n",
       "</style>\n",
       "<table border=\"1\" class=\"dataframe\">\n",
       "  <thead>\n",
       "    <tr style=\"text-align: right;\">\n",
       "      <th></th>\n",
       "      <th>model</th>\n",
       "      <th>flights_amount</th>\n",
       "    </tr>\n",
       "  </thead>\n",
       "  <tbody>\n",
       "    <tr>\n",
       "      <td>0</td>\n",
       "      <td>Airbus A319-100</td>\n",
       "      <td>607</td>\n",
       "    </tr>\n",
       "    <tr>\n",
       "      <td>1</td>\n",
       "      <td>Airbus A321-200</td>\n",
       "      <td>960</td>\n",
       "    </tr>\n",
       "    <tr>\n",
       "      <td>2</td>\n",
       "      <td>Boeing 737-300</td>\n",
       "      <td>630</td>\n",
       "    </tr>\n",
       "    <tr>\n",
       "      <td>3</td>\n",
       "      <td>Boeing 767-300</td>\n",
       "      <td>600</td>\n",
       "    </tr>\n",
       "    <tr>\n",
       "      <td>4</td>\n",
       "      <td>Boeing 777-300</td>\n",
       "      <td>300</td>\n",
       "    </tr>\n",
       "  </tbody>\n",
       "</table>\n",
       "</div>"
      ],
      "text/plain": [
       "             model  flights_amount\n",
       "0  Airbus A319-100             607\n",
       "1  Airbus A321-200             960\n",
       "2   Boeing 737-300             630\n",
       "3   Boeing 767-300             600\n",
       "4   Boeing 777-300             300"
      ]
     },
     "execution_count": 3,
     "metadata": {},
     "output_type": "execute_result"
    }
   ],
   "source": [
    "data_model=pd.read_csv('/datasets/query_1.csv')\n",
    "data_model.head()"
   ]
  },
  {
   "cell_type": "code",
   "execution_count": 4,
   "metadata": {},
   "outputs": [
    {
     "name": "stdout",
     "output_type": "stream",
     "text": [
      "<class 'pandas.core.frame.DataFrame'>\n",
      "RangeIndex: 8 entries, 0 to 7\n",
      "Data columns (total 2 columns):\n",
      "model             8 non-null object\n",
      "flights_amount    8 non-null int64\n",
      "dtypes: int64(1), object(1)\n",
      "memory usage: 256.0+ bytes\n"
     ]
    }
   ],
   "source": [
    "data_model.info()"
   ]
  },
  {
   "cell_type": "code",
   "execution_count": 5,
   "metadata": {},
   "outputs": [
    {
     "data": {
      "text/html": [
       "<div>\n",
       "<style scoped>\n",
       "    .dataframe tbody tr th:only-of-type {\n",
       "        vertical-align: middle;\n",
       "    }\n",
       "\n",
       "    .dataframe tbody tr th {\n",
       "        vertical-align: top;\n",
       "    }\n",
       "\n",
       "    .dataframe thead th {\n",
       "        text-align: right;\n",
       "    }\n",
       "</style>\n",
       "<table border=\"1\" class=\"dataframe\">\n",
       "  <thead>\n",
       "    <tr style=\"text-align: right;\">\n",
       "      <th></th>\n",
       "      <th>city</th>\n",
       "      <th>average_flights</th>\n",
       "    </tr>\n",
       "  </thead>\n",
       "  <tbody>\n",
       "    <tr>\n",
       "      <td>0</td>\n",
       "      <td>Абакан</td>\n",
       "      <td>3.870968</td>\n",
       "    </tr>\n",
       "    <tr>\n",
       "      <td>1</td>\n",
       "      <td>Анадырь</td>\n",
       "      <td>1.000000</td>\n",
       "    </tr>\n",
       "    <tr>\n",
       "      <td>2</td>\n",
       "      <td>Анапа</td>\n",
       "      <td>2.161290</td>\n",
       "    </tr>\n",
       "    <tr>\n",
       "      <td>3</td>\n",
       "      <td>Архангельск</td>\n",
       "      <td>5.354839</td>\n",
       "    </tr>\n",
       "    <tr>\n",
       "      <td>4</td>\n",
       "      <td>Астрахань</td>\n",
       "      <td>2.451613</td>\n",
       "    </tr>\n",
       "  </tbody>\n",
       "</table>\n",
       "</div>"
      ],
      "text/plain": [
       "          city  average_flights\n",
       "0       Абакан         3.870968\n",
       "1      Анадырь         1.000000\n",
       "2        Анапа         2.161290\n",
       "3  Архангельск         5.354839\n",
       "4    Астрахань         2.451613"
      ]
     },
     "execution_count": 5,
     "metadata": {},
     "output_type": "execute_result"
    }
   ],
   "source": [
    "data_city=pd.read_csv('/datasets/query_3.csv')\n",
    "data_city.head()"
   ]
  },
  {
   "cell_type": "code",
   "execution_count": 6,
   "metadata": {},
   "outputs": [
    {
     "name": "stdout",
     "output_type": "stream",
     "text": [
      "<class 'pandas.core.frame.DataFrame'>\n",
      "RangeIndex: 101 entries, 0 to 100\n",
      "Data columns (total 2 columns):\n",
      "city               101 non-null object\n",
      "average_flights    101 non-null float64\n",
      "dtypes: float64(1), object(1)\n",
      "memory usage: 1.7+ KB\n"
     ]
    }
   ],
   "source": [
    "data_city.info()"
   ]
  },
  {
   "cell_type": "markdown",
   "metadata": {},
   "source": [
    "**обработаем average_flights**"
   ]
  },
  {
   "cell_type": "code",
   "execution_count": 7,
   "metadata": {
    "scrolled": true
   },
   "outputs": [
    {
     "data": {
      "text/html": [
       "<div>\n",
       "<style scoped>\n",
       "    .dataframe tbody tr th:only-of-type {\n",
       "        vertical-align: middle;\n",
       "    }\n",
       "\n",
       "    .dataframe tbody tr th {\n",
       "        vertical-align: top;\n",
       "    }\n",
       "\n",
       "    .dataframe thead th {\n",
       "        text-align: right;\n",
       "    }\n",
       "</style>\n",
       "<table border=\"1\" class=\"dataframe\">\n",
       "  <thead>\n",
       "    <tr style=\"text-align: right;\">\n",
       "      <th></th>\n",
       "      <th>city</th>\n",
       "      <th>average_flights</th>\n",
       "    </tr>\n",
       "  </thead>\n",
       "  <tbody>\n",
       "    <tr>\n",
       "      <td>0</td>\n",
       "      <td>Абакан</td>\n",
       "      <td>3.87</td>\n",
       "    </tr>\n",
       "    <tr>\n",
       "      <td>1</td>\n",
       "      <td>Анадырь</td>\n",
       "      <td>1.00</td>\n",
       "    </tr>\n",
       "    <tr>\n",
       "      <td>2</td>\n",
       "      <td>Анапа</td>\n",
       "      <td>2.16</td>\n",
       "    </tr>\n",
       "    <tr>\n",
       "      <td>3</td>\n",
       "      <td>Архангельск</td>\n",
       "      <td>5.35</td>\n",
       "    </tr>\n",
       "    <tr>\n",
       "      <td>4</td>\n",
       "      <td>Астрахань</td>\n",
       "      <td>2.45</td>\n",
       "    </tr>\n",
       "  </tbody>\n",
       "</table>\n",
       "</div>"
      ],
      "text/plain": [
       "          city  average_flights\n",
       "0       Абакан             3.87\n",
       "1      Анадырь             1.00\n",
       "2        Анапа             2.16\n",
       "3  Архангельск             5.35\n",
       "4    Астрахань             2.45"
      ]
     },
     "execution_count": 7,
     "metadata": {},
     "output_type": "execute_result"
    }
   ],
   "source": [
    "data_city['average_flights']=data_city['average_flights'].round(2)\n",
    "data_city.head()"
   ]
  },
  {
   "cell_type": "markdown",
   "metadata": {},
   "source": [
    "* пропуски отсутствуют\n",
    "* округлили average_flights до сотых"
   ]
  },
  {
   "cell_type": "markdown",
   "metadata": {},
   "source": [
    "## Выбрать топ-10 городов по количеству рейсов"
   ]
  },
  {
   "cell_type": "code",
   "execution_count": 8,
   "metadata": {
    "scrolled": true
   },
   "outputs": [
    {
     "data": {
      "text/html": [
       "<div>\n",
       "<style scoped>\n",
       "    .dataframe tbody tr th:only-of-type {\n",
       "        vertical-align: middle;\n",
       "    }\n",
       "\n",
       "    .dataframe tbody tr th {\n",
       "        vertical-align: top;\n",
       "    }\n",
       "\n",
       "    .dataframe thead th {\n",
       "        text-align: right;\n",
       "    }\n",
       "</style>\n",
       "<table border=\"1\" class=\"dataframe\">\n",
       "  <thead>\n",
       "    <tr style=\"text-align: right;\">\n",
       "      <th></th>\n",
       "      <th>index</th>\n",
       "      <th>city</th>\n",
       "      <th>average_flights</th>\n",
       "    </tr>\n",
       "  </thead>\n",
       "  <tbody>\n",
       "    <tr>\n",
       "      <td>0</td>\n",
       "      <td>43</td>\n",
       "      <td>Москва</td>\n",
       "      <td>129.77</td>\n",
       "    </tr>\n",
       "    <tr>\n",
       "      <td>1</td>\n",
       "      <td>70</td>\n",
       "      <td>Санкт-Петербург</td>\n",
       "      <td>31.16</td>\n",
       "    </tr>\n",
       "    <tr>\n",
       "      <td>2</td>\n",
       "      <td>54</td>\n",
       "      <td>Новосибирск</td>\n",
       "      <td>17.32</td>\n",
       "    </tr>\n",
       "    <tr>\n",
       "      <td>3</td>\n",
       "      <td>33</td>\n",
       "      <td>Красноярск</td>\n",
       "      <td>11.58</td>\n",
       "    </tr>\n",
       "    <tr>\n",
       "      <td>4</td>\n",
       "      <td>20</td>\n",
       "      <td>Екатеринбург</td>\n",
       "      <td>11.32</td>\n",
       "    </tr>\n",
       "    <tr>\n",
       "      <td>5</td>\n",
       "      <td>67</td>\n",
       "      <td>Ростов-на-Дону</td>\n",
       "      <td>10.19</td>\n",
       "    </tr>\n",
       "    <tr>\n",
       "      <td>6</td>\n",
       "      <td>63</td>\n",
       "      <td>Пермь</td>\n",
       "      <td>10.13</td>\n",
       "    </tr>\n",
       "    <tr>\n",
       "      <td>7</td>\n",
       "      <td>10</td>\n",
       "      <td>Брянск</td>\n",
       "      <td>10.00</td>\n",
       "    </tr>\n",
       "    <tr>\n",
       "      <td>8</td>\n",
       "      <td>74</td>\n",
       "      <td>Сочи</td>\n",
       "      <td>9.61</td>\n",
       "    </tr>\n",
       "    <tr>\n",
       "      <td>9</td>\n",
       "      <td>84</td>\n",
       "      <td>Ульяновск</td>\n",
       "      <td>9.58</td>\n",
       "    </tr>\n",
       "  </tbody>\n",
       "</table>\n",
       "</div>"
      ],
      "text/plain": [
       "   index             city  average_flights\n",
       "0     43           Москва           129.77\n",
       "1     70  Санкт-Петербург            31.16\n",
       "2     54      Новосибирск            17.32\n",
       "3     33       Красноярск            11.58\n",
       "4     20     Екатеринбург            11.32\n",
       "5     67   Ростов-на-Дону            10.19\n",
       "6     63            Пермь            10.13\n",
       "7     10           Брянск            10.00\n",
       "8     74             Сочи             9.61\n",
       "9     84        Ульяновск             9.58"
      ]
     },
     "execution_count": 8,
     "metadata": {},
     "output_type": "execute_result"
    }
   ],
   "source": [
    "data_city_top10=data_city.sort_values(by='average_flights', ascending=False).head(10).reset_index()\n",
    "data_city_top10"
   ]
  },
  {
   "cell_type": "markdown",
   "metadata": {},
   "source": [
    "## Построить графики"
   ]
  },
  {
   "cell_type": "markdown",
   "metadata": {},
   "source": [
    "### модели самолетов и количество рейсов"
   ]
  },
  {
   "cell_type": "code",
   "execution_count": 9,
   "metadata": {},
   "outputs": [],
   "source": [
    "data_model_sort=data_model.sort_values(by='flights_amount', ascending=False)"
   ]
  },
  {
   "cell_type": "code",
   "execution_count": 10,
   "metadata": {},
   "outputs": [
    {
     "data": {
      "image/png": "[encoded data removed]",
      "text/plain": [
       "<Figure size 1224x648 with 1 Axes>"
      ]
     },
     "metadata": {},
     "output_type": "display_data"
    }
   ],
   "source": [
    "plt.figure(figsize=(17, 9))\n",
    "sns.barplot(x='model', y='flights_amount', data=data_model_sort, palette='cool')\n",
    "plt.title('Модели самолетов и количество рейсов',fontsize=14)\n",
    "plt.xlabel('')\n",
    "plt.xticks(rotation=30)\n",
    "plt.ylabel('Кол-во рейсов',fontsize=14)\n",
    "plt.show()"
   ]
  },
  {
   "cell_type": "markdown",
   "metadata": {},
   "source": [
    "* самые популярные модели Bombardier CRJ-200, Cessna 208 Caravan и Sukhoi SuperJet-100 \n",
    "* в топе легкие и региональные модели\n",
    "* меньше всего у boeing 777-300, используется для авиалиний большой протяжённости"
   ]
  },
  {
   "cell_type": "markdown",
   "metadata": {},
   "source": [
    "### города и количество рейсов"
   ]
  },
  {
   "cell_type": "code",
   "execution_count": 11,
   "metadata": {},
   "outputs": [],
   "source": [
    "data_city_sort = data_city.sort_values(by='average_flights', ascending=False)"
   ]
  },
  {
   "cell_type": "code",
   "execution_count": 12,
   "metadata": {},
   "outputs": [
    {
     "data": {
      "image/png": "[encoded data removed]",
      "text/plain": [
       "<Figure size 1224x1656 with 1 Axes>"
      ]
     },
     "metadata": {},
     "output_type": "display_data"
    }
   ],
   "source": [
    "plt.figure(figsize=(17, 23))\n",
    "sns.barplot(x='average_flights', y='city', data=data_city_sort, palette='cool')\n",
    "plt.title('Города и количество рейсов',fontsize=14)\n",
    "plt.xlabel('Кол-во рейсов',fontsize=14)\n",
    "plt.ylabel('')\n",
    "plt.show()"
   ]
  },
  {
   "cell_type": "markdown",
   "metadata": {},
   "source": [
    "среднее и медиана для всей выборки данных"
   ]
  },
  {
   "cell_type": "code",
   "execution_count": 13,
   "metadata": {
    "scrolled": true
   },
   "outputs": [
    {
     "data": {
      "text/plain": [
       "5.493663366336634"
      ]
     },
     "execution_count": 13,
     "metadata": {},
     "output_type": "execute_result"
    }
   ],
   "source": [
    "data_city_sort['average_flights'].mean()"
   ]
  },
  {
   "cell_type": "code",
   "execution_count": 14,
   "metadata": {},
   "outputs": [
    {
     "data": {
      "text/plain": [
       "3.0"
      ]
     },
     "execution_count": 14,
     "metadata": {},
     "output_type": "execute_result"
    }
   ],
   "source": [
    "data_city_sort['average_flights'].median()"
   ]
  },
  {
   "cell_type": "markdown",
   "metadata": {},
   "source": [
    "среднее без учета Москвы"
   ]
  },
  {
   "cell_type": "code",
   "execution_count": 15,
   "metadata": {
    "scrolled": true
   },
   "outputs": [
    {
     "data": {
      "text/plain": [
       "4.2509"
      ]
     },
     "execution_count": 15,
     "metadata": {},
     "output_type": "execute_result"
    }
   ],
   "source": [
    "data_city_sort.loc[data_city_sort['city']!='Москва','average_flights'].mean()"
   ]
  },
  {
   "cell_type": "markdown",
   "metadata": {},
   "source": [
    "* лидирует по рейсам Москва с большим отрывом\n",
    "* среднее кол-во перелетов без учета Москвы не больше 5\n",
    "* медиана всех значений равна 3"
   ]
  },
  {
   "cell_type": "markdown",
   "metadata": {},
   "source": [
    "### топ-10 городов и количество рейсов"
   ]
  },
  {
   "cell_type": "code",
   "execution_count": 16,
   "metadata": {
    "scrolled": true
   },
   "outputs": [
    {
     "data": {
      "image/png": "[encoded data removed]",
      "text/plain": [
       "<Figure size 1224x648 with 1 Axes>"
      ]
     },
     "metadata": {},
     "output_type": "display_data"
    }
   ],
   "source": [
    "plt.figure(figsize=(17, 9))\n",
    "sns.barplot(y='average_flights', x='city', data=data_city_top10, palette='cool')\n",
    "plt.title('Топ-10 городов и количество рейсов',fontsize=14)\n",
    "plt.ylabel('Кол-во рейсов',fontsize=14)\n",
    "plt.xlabel('')\n",
    "plt.show()"
   ]
  },
  {
   "cell_type": "markdown",
   "metadata": {},
   "source": [
    "* лидеры Москва, Санкт-Петербург, Новосибирск\n",
    "* остальные в среднем не более 10 перелетов\n",
    "* Кол-во рейсов зависит как от численности населения. Если не учитывать Москву и С.-Петербург, то следующие по численности это Новосибирск и Екатеринбург.\n",
    "* Так и от экономического значения города. Красноярск является крупнейшим экономическим и промышленным центром Восточной Сибири и крупным транспортным узел. Ростов-на-Дону крупнейший город на юго-западе России, административный центр Южного федерального округа"
   ]
  },
  {
   "cell_type": "markdown",
   "metadata": {},
   "source": [
    "## Общий вывод"
   ]
  },
  {
   "cell_type": "markdown",
   "metadata": {},
   "source": [
    "**Обзор проведенной работы**: В работе был проведен анализ спроса пассажиров на рейсы в города, где проходят крупнейшие фестивали.\n",
    "1. Изучены имеющиеся данные: \n",
    "* доступна информация о :\n",
    " * моделях самолетов и количества рейсов для каждой модели в сентябре 2018 года\n",
    " * городах среднем количестве рейсов, прибывающих в город за день в августе 2018 года\n",
    "* проведено округление для столбца average_flights\n",
    "2. Выбран топ-10 городов по количеству рейсов: лидеры Москва, Санкт-Петербург, Новосибирск\n",
    "3. Построены графики\n",
    "* модели самолетов и количество рейсов \n",
    "* города и количество рейсов\n",
    "* топ-10 городов и количество рейсов"
   ]
  },
  {
   "cell_type": "markdown",
   "metadata": {},
   "source": [
    "**Основной вывод**:\n",
    "* самые популярные модели Bombardier CRJ-200, Cessna 208 Caravan и Sukhoi SuperJet-100\n",
    "* лидирует по рейсам Москва с большим отрывом\n",
    "* среднее кол-во перелетов по остальным городам чуть больше 4"
   ]
  }
 ],
 "metadata": {
  "ExecuteTimeLog": [
   {
    "duration": 517,
    "start_time": "2021-09-08T13:39:11.252Z"
   },
   {
    "duration": 28,
    "start_time": "2021-09-08T13:41:29.000Z"
   },
   {
    "duration": 19,
    "start_time": "2021-09-08T13:41:50.533Z"
   },
   {
    "duration": 7,
    "start_time": "2021-09-08T13:42:19.332Z"
   },
   {
    "duration": 6,
    "start_time": "2021-09-08T13:42:32.933Z"
   },
   {
    "duration": 235,
    "start_time": "2021-09-08T13:48:37.278Z"
   },
   {
    "duration": 2,
    "start_time": "2021-09-08T13:48:44.026Z"
   },
   {
    "duration": 21,
    "start_time": "2021-09-08T13:48:44.032Z"
   },
   {
    "duration": 6,
    "start_time": "2021-09-08T13:48:44.055Z"
   },
   {
    "duration": 25,
    "start_time": "2021-09-08T13:48:44.063Z"
   },
   {
    "duration": 5,
    "start_time": "2021-09-08T13:48:44.090Z"
   },
   {
    "duration": 10,
    "start_time": "2021-09-08T13:48:46.997Z"
   },
   {
    "duration": 9,
    "start_time": "2021-09-08T13:49:01.356Z"
   },
   {
    "duration": 3,
    "start_time": "2021-09-08T13:55:32.664Z"
   },
   {
    "duration": 6,
    "start_time": "2021-09-08T13:55:43.333Z"
   },
   {
    "duration": 8,
    "start_time": "2021-09-08T13:57:37.581Z"
   },
   {
    "duration": 69,
    "start_time": "2021-09-08T14:02:00.248Z"
   },
   {
    "duration": 7,
    "start_time": "2021-09-08T14:04:03.155Z"
   },
   {
    "duration": 4,
    "start_time": "2021-09-08T14:04:13.758Z"
   },
   {
    "duration": 212,
    "start_time": "2021-09-08T14:07:16.947Z"
   },
   {
    "duration": 467,
    "start_time": "2021-09-08T14:08:41.813Z"
   },
   {
    "duration": 8,
    "start_time": "2021-09-08T14:11:23.832Z"
   },
   {
    "duration": 10,
    "start_time": "2021-09-08T14:11:50.366Z"
   },
   {
    "duration": 244,
    "start_time": "2021-09-08T14:12:05.316Z"
   },
   {
    "duration": 278,
    "start_time": "2021-09-08T14:12:13.364Z"
   },
   {
    "duration": 300,
    "start_time": "2021-09-08T14:14:01.254Z"
   },
   {
    "duration": 4,
    "start_time": "2021-09-08T14:14:50.718Z"
   },
   {
    "duration": 347,
    "start_time": "2021-09-08T14:15:00.610Z"
   },
   {
    "duration": 3,
    "start_time": "2021-09-08T14:16:37.987Z"
   },
   {
    "duration": 329,
    "start_time": "2021-09-08T14:16:44.522Z"
   },
   {
    "duration": 331,
    "start_time": "2021-09-08T14:18:43.393Z"
   },
   {
    "duration": 358,
    "start_time": "2021-09-08T14:19:33.122Z"
   },
   {
    "duration": 351,
    "start_time": "2021-09-08T14:20:00.695Z"
   },
   {
    "duration": 346,
    "start_time": "2021-09-08T14:21:32.377Z"
   },
   {
    "duration": 4,
    "start_time": "2021-09-08T14:37:46.903Z"
   },
   {
    "duration": 1718,
    "start_time": "2021-09-08T14:38:34.843Z"
   },
   {
    "duration": 1859,
    "start_time": "2021-09-08T14:38:47.919Z"
   },
   {
    "duration": 1847,
    "start_time": "2021-09-08T14:39:03.125Z"
   },
   {
    "duration": 1855,
    "start_time": "2021-09-08T14:39:58.201Z"
   },
   {
    "duration": 1983,
    "start_time": "2021-09-08T14:40:31.683Z"
   },
   {
    "duration": 1821,
    "start_time": "2021-09-08T14:41:07.904Z"
   },
   {
    "duration": 1988,
    "start_time": "2021-09-08T14:41:20.778Z"
   },
   {
    "duration": 11,
    "start_time": "2021-09-08T14:42:40.184Z"
   },
   {
    "duration": 5,
    "start_time": "2021-09-08T14:43:26.032Z"
   },
   {
    "duration": 8,
    "start_time": "2021-09-08T14:43:34.954Z"
   },
   {
    "duration": 10,
    "start_time": "2021-09-08T14:46:07.706Z"
   },
   {
    "duration": 8,
    "start_time": "2021-09-08T14:46:39.585Z"
   },
   {
    "duration": 8,
    "start_time": "2021-09-08T14:46:50.961Z"
   },
   {
    "duration": 4,
    "start_time": "2021-09-08T14:47:22.246Z"
   },
   {
    "duration": 9,
    "start_time": "2021-09-08T14:48:30.699Z"
   },
   {
    "duration": 5,
    "start_time": "2021-09-08T14:48:45.997Z"
   },
   {
    "duration": 369,
    "start_time": "2021-09-08T14:51:06.971Z"
   },
   {
    "duration": 350,
    "start_time": "2021-09-08T14:51:45.399Z"
   },
   {
    "duration": 1009,
    "start_time": "2021-09-08T14:53:31.907Z"
   },
   {
    "duration": 3,
    "start_time": "2021-09-08T14:53:32.918Z"
   },
   {
    "duration": 25,
    "start_time": "2021-09-08T14:53:32.923Z"
   },
   {
    "duration": 5,
    "start_time": "2021-09-08T14:53:32.950Z"
   },
   {
    "duration": 20,
    "start_time": "2021-09-08T14:53:32.957Z"
   },
   {
    "duration": 5,
    "start_time": "2021-09-08T14:53:32.978Z"
   },
   {
    "duration": 8,
    "start_time": "2021-09-08T14:53:32.984Z"
   },
   {
    "duration": 9,
    "start_time": "2021-09-08T14:53:32.994Z"
   },
   {
    "duration": 3,
    "start_time": "2021-09-08T14:53:33.004Z"
   },
   {
    "duration": 380,
    "start_time": "2021-09-08T14:53:33.009Z"
   },
   {
    "duration": 3,
    "start_time": "2021-09-08T14:53:33.391Z"
   },
   {
    "duration": 1895,
    "start_time": "2021-09-08T14:53:33.396Z"
   },
   {
    "duration": 4,
    "start_time": "2021-09-08T14:53:35.293Z"
   },
   {
    "duration": 19,
    "start_time": "2021-09-08T14:53:35.298Z"
   },
   {
    "duration": 350,
    "start_time": "2021-09-08T14:53:35.318Z"
   },
   {
    "duration": 343,
    "start_time": "2021-09-08T14:55:32.715Z"
   },
   {
    "duration": 1016,
    "start_time": "2021-09-08T15:07:12.609Z"
   },
   {
    "duration": 2,
    "start_time": "2021-09-08T15:07:13.627Z"
   },
   {
    "duration": 35,
    "start_time": "2021-09-08T15:07:13.631Z"
   },
   {
    "duration": 69,
    "start_time": "2021-09-08T15:07:13.668Z"
   },
   {
    "duration": 31,
    "start_time": "2021-09-08T15:07:13.739Z"
   },
   {
    "duration": 12,
    "start_time": "2021-09-08T15:07:13.772Z"
   },
   {
    "duration": 24,
    "start_time": "2021-09-08T15:07:13.786Z"
   },
   {
    "duration": 11,
    "start_time": "2021-09-08T15:07:13.812Z"
   },
   {
    "duration": 5,
    "start_time": "2021-09-08T15:07:13.825Z"
   },
   {
    "duration": 352,
    "start_time": "2021-09-08T15:07:13.832Z"
   },
   {
    "duration": 3,
    "start_time": "2021-09-08T15:07:14.186Z"
   },
   {
    "duration": 1950,
    "start_time": "2021-09-08T15:07:14.191Z"
   },
   {
    "duration": 4,
    "start_time": "2021-09-08T15:07:16.143Z"
   },
   {
    "duration": 19,
    "start_time": "2021-09-08T15:07:16.149Z"
   },
   {
    "duration": 359,
    "start_time": "2021-09-08T15:07:16.169Z"
   },
   {
    "duration": 80,
    "start_time": "2021-09-08T19:37:46.523Z"
   },
   {
    "duration": 1428,
    "start_time": "2021-09-09T08:27:25.981Z"
   },
   {
    "duration": 5,
    "start_time": "2021-09-09T08:27:27.412Z"
   },
   {
    "duration": 36,
    "start_time": "2021-09-09T08:27:27.421Z"
   },
   {
    "duration": 9,
    "start_time": "2021-09-09T08:27:27.461Z"
   },
   {
    "duration": 39,
    "start_time": "2021-09-09T08:27:27.473Z"
   },
   {
    "duration": 10,
    "start_time": "2021-09-09T08:27:27.515Z"
   },
   {
    "duration": 12,
    "start_time": "2021-09-09T08:27:32.841Z"
   },
   {
    "duration": 15,
    "start_time": "2021-09-09T08:28:37.553Z"
   },
   {
    "duration": 5,
    "start_time": "2021-09-09T08:28:45.418Z"
   },
   {
    "duration": 558,
    "start_time": "2021-09-09T08:28:45.901Z"
   },
   {
    "duration": 5,
    "start_time": "2021-09-09T08:28:55.759Z"
   },
   {
    "duration": 3231,
    "start_time": "2021-09-09T08:28:57.402Z"
   },
   {
    "duration": 6,
    "start_time": "2021-09-09T08:29:05.478Z"
   },
   {
    "duration": 7,
    "start_time": "2021-09-09T08:29:05.908Z"
   },
   {
    "duration": 6,
    "start_time": "2021-09-09T08:32:10.063Z"
   },
   {
    "duration": 562,
    "start_time": "2021-09-09T08:33:17.168Z"
   },
   {
    "duration": 1483,
    "start_time": "2021-09-09T08:47:13.953Z"
   },
   {
    "duration": 3,
    "start_time": "2021-09-09T08:47:15.439Z"
   },
   {
    "duration": 38,
    "start_time": "2021-09-09T08:47:15.445Z"
   },
   {
    "duration": 18,
    "start_time": "2021-09-09T08:47:15.485Z"
   },
   {
    "duration": 46,
    "start_time": "2021-09-09T08:47:15.506Z"
   },
   {
    "duration": 23,
    "start_time": "2021-09-09T08:47:15.555Z"
   },
   {
    "duration": 31,
    "start_time": "2021-09-09T08:47:15.580Z"
   },
   {
    "duration": 39,
    "start_time": "2021-09-09T08:47:15.616Z"
   },
   {
    "duration": 13,
    "start_time": "2021-09-09T08:47:15.658Z"
   },
   {
    "duration": 590,
    "start_time": "2021-09-09T08:47:15.673Z"
   },
   {
    "duration": 5,
    "start_time": "2021-09-09T08:47:16.266Z"
   },
   {
    "duration": 3030,
    "start_time": "2021-09-09T08:47:16.274Z"
   },
   {
    "duration": 6,
    "start_time": "2021-09-09T08:47:19.307Z"
   },
   {
    "duration": 19,
    "start_time": "2021-09-09T08:47:19.315Z"
   },
   {
    "duration": 20,
    "start_time": "2021-09-09T08:47:19.336Z"
   },
   {
    "duration": 585,
    "start_time": "2021-09-09T08:47:19.358Z"
   },
   {
    "duration": 1420,
    "start_time": "2021-09-09T08:50:49.076Z"
   },
   {
    "duration": 5,
    "start_time": "2021-09-09T08:50:50.499Z"
   },
   {
    "duration": 58,
    "start_time": "2021-09-09T08:50:50.508Z"
   },
   {
    "duration": 25,
    "start_time": "2021-09-09T08:50:50.569Z"
   },
   {
    "duration": 44,
    "start_time": "2021-09-09T08:50:50.597Z"
   },
   {
    "duration": 21,
    "start_time": "2021-09-09T08:50:50.645Z"
   },
   {
    "duration": 39,
    "start_time": "2021-09-09T08:50:50.669Z"
   },
   {
    "duration": 36,
    "start_time": "2021-09-09T08:50:50.712Z"
   },
   {
    "duration": 27,
    "start_time": "2021-09-09T08:50:50.751Z"
   },
   {
    "duration": 589,
    "start_time": "2021-09-09T08:50:50.780Z"
   },
   {
    "duration": 6,
    "start_time": "2021-09-09T08:50:51.373Z"
   },
   {
    "duration": 3115,
    "start_time": "2021-09-09T08:50:51.382Z"
   },
   {
    "duration": 8,
    "start_time": "2021-09-09T08:50:54.500Z"
   },
   {
    "duration": 31,
    "start_time": "2021-09-09T08:50:54.511Z"
   },
   {
    "duration": 48,
    "start_time": "2021-09-09T08:50:54.544Z"
   },
   {
    "duration": 636,
    "start_time": "2021-09-09T08:50:54.595Z"
   },
   {
    "duration": 118,
    "start_time": "2021-09-09T09:04:47.259Z"
   }
  ],
  "kernelspec": {
   "display_name": "Python 3",
   "language": "python",
   "name": "python3"
  },
  "language_info": {
   "codemirror_mode": {
    "name": "ipython",
    "version": 3
   },
   "file_extension": ".py",
   "mimetype": "text/x-python",
   "name": "python",
   "nbconvert_exporter": "python",
   "pygments_lexer": "ipython3",
   "version": "3.8.8"
  },
  "toc": {
   "base_numbering": 1,
   "nav_menu": {
    "height": "75px",
    "width": "424px"
   },
   "number_sections": true,
   "sideBar": true,
   "skip_h1_title": true,
   "title_cell": "Содержание",
   "title_sidebar": "Contents",
   "toc_cell": true,
   "toc_position": {
    "height": "calc(100% - 180px)",
    "left": "10px",
    "top": "150px",
    "width": "345.4px"
   },
   "toc_section_display": true,
   "toc_window_display": true
  }
 },
 "nbformat": 4,
 "nbformat_minor": 2
}
